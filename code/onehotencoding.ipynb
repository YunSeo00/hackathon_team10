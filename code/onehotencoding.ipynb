{
 "cells": [
  {
   "cell_type": "code",
   "execution_count": 1,
   "id": "df1eed9c",
   "metadata": {},
   "outputs": [],
   "source": [
    "import pandas as pd\n",
    "import numpy as np"
   ]
  },
  {
   "cell_type": "code",
   "execution_count": 2,
   "id": "5dae5505",
   "metadata": {},
   "outputs": [],
   "source": [
    "train_data = pd.read_csv('./data/MBTI_train.csv', header=None, encoding = 'ISO 8859-1')\n",
    "test_data = pd.read_csv('./data/MBTI_test.csv', header =None,encoding = 'ISO 8859-1')"
   ]
  },
  {
   "cell_type": "markdown",
   "id": "c5f2d293",
   "metadata": {},
   "source": [
    "**전처리**"
   ]
  },
  {
   "cell_type": "code",
   "execution_count": 3,
   "id": "c525dad3",
   "metadata": {},
   "outputs": [],
   "source": [
    "from keras.preprocessing.text import Tokenizer"
   ]
  },
  {
   "cell_type": "code",
   "execution_count": 4,
   "id": "e37ce114",
   "metadata": {},
   "outputs": [],
   "source": [
    "tokenizer = Tokenizer(num_words = 1000) # 가장 빈도가 높은 1000개의 단어 \n",
    "tokenizer.fit_on_texts(train_data.iloc[:,1]) # 단어 인덱스 구축\n",
    "train_one_hot_results = tokenizer.texts_to_matrix(train_data.iloc[:,1], mode = 'binary') # 원핫 이진 벡터\n",
    "test_one_hot_results = tokenizer.texts_to_matrix(test_data.iloc[:,0], mode = 'binary') # 원핫 이진 벡터\n"
   ]
  },
  {
   "cell_type": "code",
   "execution_count": 5,
   "id": "e466831e",
   "metadata": {},
   "outputs": [],
   "source": [
    "X_train_onehot = pd.DataFrame(train_one_hot_results)\n",
    "test_data_onehot_origin = pd.DataFrame(test_one_hot_results)"
   ]
  },
  {
   "cell_type": "code",
   "execution_count": 6,
   "id": "89803498",
   "metadata": {},
   "outputs": [],
   "source": [
    "# train_data\n",
    "train_data_onehot_origin = pd.concat([train_data.iloc[:,0], X_train_onehot], axis = 1)"
   ]
  },
  {
   "cell_type": "code",
   "execution_count": 8,
   "id": "62aa7a83",
   "metadata": {},
   "outputs": [],
   "source": [
    "train_data_onehot_origin.to_csv('./preproc/train_data_onehot_origin.csv', index = None)"
   ]
  },
  {
   "cell_type": "code",
   "execution_count": 12,
   "id": "fa019ac4",
   "metadata": {},
   "outputs": [],
   "source": [
    "test_data_onehot_origin.to_csv('./preproc/test_data_onehot_origin.csv', index = None)"
   ]
  },
  {
   "cell_type": "markdown",
   "id": "6eb7bc72",
   "metadata": {},
   "source": [
    "**주성분 분석**"
   ]
  },
  {
   "cell_type": "code",
   "execution_count": 15,
   "id": "f2f7982a",
   "metadata": {},
   "outputs": [
    {
     "name": "stdout",
     "output_type": "stream",
     "text": [
      "0.6990316025062318\n"
     ]
    }
   ],
   "source": [
    "from sklearn.decomposition import PCA\n",
    "pca = PCA(n_components=500)\n",
    "pca.fit(X_train_onehot)\n",
    "#print(pca.explained_variance_ratio_)\n",
    "print(pca.explained_variance_ratio_.sum()) # 69.9%"
   ]
  },
  {
   "cell_type": "code",
   "execution_count": 16,
   "id": "4477bf6a",
   "metadata": {},
   "outputs": [
    {
     "name": "stdout",
     "output_type": "stream",
     "text": [
      "0.37000479098056094\n"
     ]
    }
   ],
   "source": [
    "pca = PCA(n_components=200)\n",
    "pca.fit(X_train_onehot)\n",
    "#print(pca.explained_variance_ratio_)\n",
    "print(pca.explained_variance_ratio_.sum()) # 37%"
   ]
  },
  {
   "cell_type": "code",
   "execution_count": 17,
   "id": "c5917ffa",
   "metadata": {},
   "outputs": [
    {
     "name": "stdout",
     "output_type": "stream",
     "text": [
      "0.20955913034129164\n"
     ]
    }
   ],
   "source": [
    "pca = PCA(n_components=150)\n",
    "pca.fit(X_train_onehot)\n",
    "#print(pca.explained_variance_ratio_)\n",
    "print(pca.explained_variance_ratio_.sum()) # 20%"
   ]
  },
  {
   "cell_type": "code",
   "execution_count": null,
   "id": "2e94ab2d",
   "metadata": {},
   "outputs": [],
   "source": []
  }
 ],
 "metadata": {
  "kernelspec": {
   "display_name": "Python 3 (ipykernel)",
   "language": "python",
   "name": "python3"
  },
  "language_info": {
   "codemirror_mode": {
    "name": "ipython",
    "version": 3
   },
   "file_extension": ".py",
   "mimetype": "text/x-python",
   "name": "python",
   "nbconvert_exporter": "python",
   "pygments_lexer": "ipython3",
   "version": "3.8.8"
  }
 },
 "nbformat": 4,
 "nbformat_minor": 5
}
