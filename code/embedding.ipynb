{
 "cells": [
  {
   "cell_type": "code",
   "execution_count": 1,
   "id": "bbdc00c5",
   "metadata": {},
   "outputs": [],
   "source": [
    "import pandas as pd\n",
    "import numpy as np"
   ]
  },
  {
   "cell_type": "code",
   "execution_count": 2,
   "id": "534af1da",
   "metadata": {},
   "outputs": [],
   "source": [
    "train_data = pd.read_csv('./data/MBTI_train.csv', header=None, encoding = 'ISO 8859-1')\n",
    "test_data = pd.read_csv('./data/MBTI_test.csv', header =None,encoding = 'ISO 8859-1')"
   ]
  },
  {
   "cell_type": "code",
   "execution_count": 3,
   "id": "383066df",
   "metadata": {},
   "outputs": [],
   "source": [
    "from keras.preprocessing.text import Tokenizer\n",
    "\n",
    "tokenizer = Tokenizer(num_words = 1000) # 가장 빈도가 높은 1000개의 단어 \n",
    "tokenizer.fit_on_texts(train_data.iloc[:,1]) # 단어 인덱스 구축\n",
    "\n",
    "train_sequences = tokenizer.texts_to_sequences(train_data.iloc[:,1]) # 문자열을 정수 인덱스의 리스트로 변환\n",
    "test_sequences = tokenizer.texts_to_sequences(test_data.iloc[:,0])"
   ]
  },
  {
   "cell_type": "code",
   "execution_count": 4,
   "id": "c5ddb822",
   "metadata": {},
   "outputs": [],
   "source": [
    "from keras.layers import Embedding\n",
    "from keras import preprocessing"
   ]
  },
  {
   "cell_type": "code",
   "execution_count": 5,
   "id": "b0e6dd50",
   "metadata": {},
   "outputs": [],
   "source": [
    "maxlen = 3000\n",
    "\n",
    "X_train = preprocessing.sequence.pad_sequences(train_sequences, maxlen = maxlen)\n",
    "X_test = preprocessing.sequence.pad_sequences(test_sequences, maxlen = maxlen)"
   ]
  },
  {
   "cell_type": "code",
   "execution_count": 6,
   "id": "86accfcd",
   "metadata": {},
   "outputs": [],
   "source": [
    "y_train = train_data.iloc[:,0]\n",
    "y_train = y_train.replace({'INTP':0, 'INFJ':1, 'INTJ':2, 'ENTJ':3, 'ENTP':4, 'INFP':5,\n",
    "                 'ISTP':6, 'ISFJ':7, 'ENFP':8, 'ISFP':9, 'ISTJ':10, 'ENFJ':11,\n",
    "                 'ESTP':12, 'ESFP':13, 'ESTJ':14, 'ESFJ':15})"
   ]
  },
  {
   "cell_type": "code",
   "execution_count": 7,
   "id": "bddca3f5",
   "metadata": {},
   "outputs": [],
   "source": [
    "def to_one_hot(labels, dimension = 16):\n",
    "    results = np.zeros((len(labels), dimension))\n",
    "    for i, label in enumerate(labels):\n",
    "        results[i, label] = 1.\n",
    "    return results\n",
    "\n",
    "y_train_label = to_one_hot(y_train)"
   ]
  },
  {
   "cell_type": "code",
   "execution_count": 8,
   "id": "75e156e7",
   "metadata": {},
   "outputs": [],
   "source": [
    "from keras.models import Sequential\n",
    "from keras.layers import Flatten, Dense, Embedding\n",
    "\n",
    "final_model = Sequential()\n",
    "final_model.add(Embedding(1000, 8, input_length = maxlen))\n",
    "\n",
    "final_model.add(Flatten()) # (samples, maxlen * 8) 크기의 2D 텐서로 펼친다.\n",
    "\n",
    "final_model.add(Dense(16, activation = 'sigmoid'))\n",
    "final_model.compile(optimizer = 'rmsprop', loss = 'categorical_crossentropy', metrics = ['accuracy'])"
   ]
  },
  {
   "cell_type": "code",
   "execution_count": 9,
   "id": "cfbe929e",
   "metadata": {},
   "outputs": [
    {
     "name": "stdout",
     "output_type": "stream",
     "text": [
      "Epoch 1/4\n",
      "1859/1859 [==============================] - 69s 18ms/step - loss: 1.8564 - accuracy: 0.3729 - val_loss: 1.1768 - val_accuracy: 0.6438\n",
      "Epoch 2/4\n",
      "1859/1859 [==============================] - 32s 17ms/step - loss: 1.0595 - accuracy: 0.6879 - val_loss: 1.0372 - val_accuracy: 0.6846\n",
      "Epoch 3/4\n",
      "1859/1859 [==============================] - 31s 17ms/step - loss: 0.8772 - accuracy: 0.7404 - val_loss: 1.0020 - val_accuracy: 0.6998\n",
      "Epoch 4/4\n",
      "1859/1859 [==============================] - 31s 17ms/step - loss: 0.7775 - accuracy: 0.7649 - val_loss: 1.0271 - val_accuracy: 0.6940\n"
     ]
    }
   ],
   "source": [
    "history = final_model.fit(X_train, y_train_label, epochs =4, batch_size = 32, validation_split = 0.2)"
   ]
  },
  {
   "cell_type": "code",
   "execution_count": 10,
   "id": "31733fdc",
   "metadata": {},
   "outputs": [],
   "source": [
    "from keras import models\n",
    "\n",
    "layer_outputs = [layer.output for layer in final_model.layers]\n",
    "\n",
    "activation_model = models.Model(inputs = final_model.input, outputs = layer_outputs)"
   ]
  },
  {
   "cell_type": "code",
   "execution_count": 11,
   "id": "f4619b33",
   "metadata": {},
   "outputs": [],
   "source": [
    "train_activations = activation_model.predict(X_train)"
   ]
  },
  {
   "cell_type": "code",
   "execution_count": 12,
   "id": "29395694",
   "metadata": {},
   "outputs": [],
   "source": [
    "test_activations = activation_model.predict(X_test)"
   ]
  },
  {
   "cell_type": "code",
   "execution_count": 15,
   "id": "9e686842",
   "metadata": {},
   "outputs": [],
   "source": [
    "X_train_embedding_origin = pd.DataFrame(train_activations[1])\n",
    "test_data_embedding_origin = pd.DataFrame(test_activations[1])"
   ]
  },
  {
   "cell_type": "code",
   "execution_count": 16,
   "id": "94b9c9ab",
   "metadata": {},
   "outputs": [],
   "source": [
    "train_data_embedding_origin = pd.concat([train_data.iloc[:,0], X_train_embedding_origin], axis = 1)"
   ]
  },
  {
   "cell_type": "code",
   "execution_count": null,
   "id": "457edec8",
   "metadata": {},
   "outputs": [],
   "source": [
    "train_data_embedding_origin.to_csv('./preproc/train_data_embedding_origin.csv', index = None)\n",
    "test_data_embedding_origin.to_csv('./preproc/test_data_embedding_origin.csv', index = None)"
   ]
  },
  {
   "cell_type": "markdown",
   "id": "08e71a07",
   "metadata": {},
   "source": [
    "**주성분 분석**"
   ]
  },
  {
   "cell_type": "code",
   "execution_count": null,
   "id": "1eaa40c4",
   "metadata": {},
   "outputs": [],
   "source": [
    "pca = PCA(n_components=150)\n",
    "pca.fit(X_train_embedding_origin)\n",
    "#print(pca.explained_variance_ratio_)\n",
    "print(pca.explained_variance_ratio_.sum()) #"
   ]
  },
  {
   "cell_type": "code",
   "execution_count": null,
   "id": "f785f878",
   "metadata": {},
   "outputs": [],
   "source": []
  }
 ],
 "metadata": {
  "kernelspec": {
   "display_name": "Python 3 (ipykernel)",
   "language": "python",
   "name": "python3"
  },
  "language_info": {
   "codemirror_mode": {
    "name": "ipython",
    "version": 3
   },
   "file_extension": ".py",
   "mimetype": "text/x-python",
   "name": "python",
   "nbconvert_exporter": "python",
   "pygments_lexer": "ipython3",
   "version": "3.8.8"
  }
 },
 "nbformat": 4,
 "nbformat_minor": 5
}
