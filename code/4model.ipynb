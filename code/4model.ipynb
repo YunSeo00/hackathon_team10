{
 "cells": [
  {
   "cell_type": "code",
   "execution_count": 1,
   "id": "bacfe1d4",
   "metadata": {},
   "outputs": [],
   "source": [
    "def caculate_accuracy(prediction, answer):\n",
    "    prediction_list = list(prediction)\n",
    "    answer_list = list(answer)\n",
    "    list_size = answer.size\n",
    "    \n",
    "    correct_num = 0\n",
    "    \n",
    "    for i in range(list_size):\n",
    "        for j in range(4):\n",
    "            if prediction_list[i][j] == answer_list[i][j] :\n",
    "                correct_num += 1;\n",
    "                \n",
    "    accuracy = correct_num / (4*list_size)\n",
    "    \n",
    "    return accuracy"
   ]
  },
  {
   "cell_type": "code",
   "execution_count": 2,
   "id": "cbac6875",
   "metadata": {},
   "outputs": [],
   "source": [
    "import pandas as pd\n",
    "import numpy as np\n",
    "from sklearn.metrics import confusion_matrix\n",
    "from sklearn.model_selection import train_test_split\n"
   ]
  },
  {
   "cell_type": "code",
   "execution_count": 3,
   "id": "976ea84d",
   "metadata": {},
   "outputs": [],
   "source": [
    "train_data = pd.read_csv('./data/MBTI_train.csv', header=None, encoding = 'ISO 8859-1')\n",
    "test_data = pd.read_csv('./data/MBTI_test.csv', header =None,encoding = 'ISO 8859-1')"
   ]
  },
  {
   "cell_type": "code",
   "execution_count": 8,
   "id": "ed877b9b",
   "metadata": {},
   "outputs": [],
   "source": [
    "train_idx = np.random.choice(106067, 60000, replace=False)\n",
    "test_idx = np.setdiff1d(range(106067), train_idx)\n",
    "a = train_data.iloc[train_idx,:]\n",
    "#test_data  = df[test_idx]\n"
   ]
  },
  {
   "cell_type": "code",
   "execution_count": null,
   "id": "7bfaaf5f",
   "metadata": {},
   "outputs": [],
   "source": []
  },
  {
   "cell_type": "code",
   "execution_count": 3,
   "id": "390ea0c5",
   "metadata": {},
   "outputs": [],
   "source": [
    "X = train_data.iloc[:,1] # features\n",
    "y = train_data.iloc[:,0]  # labels"
   ]
  },
  {
   "cell_type": "code",
   "execution_count": 4,
   "id": "04fdb74b",
   "metadata": {},
   "outputs": [],
   "source": [
    "def string_out1(string):\n",
    "    return string[0]\n",
    "\n",
    "def string_out2(string):\n",
    "    return string[1]\n",
    "\n",
    "def string_out3(string):\n",
    "    return string[2]\n",
    "\n",
    "def string_out4(string):\n",
    "    return string[3]"
   ]
  },
  {
   "cell_type": "code",
   "execution_count": 5,
   "id": "83a92f0e",
   "metadata": {},
   "outputs": [],
   "source": [
    "y1_train = y.apply(string_out1)\n",
    "y2_train = y.apply(string_out2)\n",
    "y3_train = y.apply(string_out3)\n",
    "y4_train = y.apply(string_out4)"
   ]
  },
  {
   "cell_type": "code",
   "execution_count": 6,
   "id": "d25bcde4",
   "metadata": {},
   "outputs": [
    {
     "data": {
      "text/plain": [
       "0        I\n",
       "1        I\n",
       "2        I\n",
       "3        I\n",
       "4        E\n",
       "        ..\n",
       "74352    I\n",
       "74353    E\n",
       "74354    I\n",
       "74355    I\n",
       "74356    E\n",
       "Name: 0, Length: 74357, dtype: object"
      ]
     },
     "execution_count": 6,
     "metadata": {},
     "output_type": "execute_result"
    }
   ],
   "source": [
    "y1_train"
   ]
  },
  {
   "cell_type": "code",
   "execution_count": 7,
   "id": "c22af4b6",
   "metadata": {},
   "outputs": [],
   "source": [
    "X_train, X_test, y_train, y_test = train_test_split(X, y, test_size=0.2, random_state=42)"
   ]
  },
  {
   "cell_type": "code",
   "execution_count": 8,
   "id": "1d9bb7f5",
   "metadata": {},
   "outputs": [],
   "source": [
    "X_train, X_test, y1_train, y1_test = train_test_split(X, y1_train, test_size=0.2, random_state=42)\n",
    "X_train, X_test, y2_train, y2_test = train_test_split(X, y2_train, test_size=0.2, random_state=42)\n",
    "X_train, X_test, y3_train, y3_test = train_test_split(X, y3_train, test_size=0.2, random_state=42)\n",
    "X_train, X_test, y4_train, y4_test = train_test_split(X, y4_train, test_size=0.2, random_state=42)"
   ]
  },
  {
   "cell_type": "code",
   "execution_count": 10,
   "id": "ccf4a2db",
   "metadata": {},
   "outputs": [],
   "source": [
    "from sklearn.feature_extraction.text import TfidfVectorizer\n",
    "\n",
    "#vectorizer = TfidfVectorizer(min_df = 4, sublinear_tf = True, ngram_range = (1, 2))\n",
    "vectorizer = TfidfVectorizer()\n",
    "   \n",
    "# Training the vectorizer:\n",
    "X_train_tfidf = vectorizer.fit_transform(X_train)\n",
    "X_test_tfidf = vectorizer.transform(X_test)"
   ]
  },
  {
   "cell_type": "code",
   "execution_count": null,
   "id": "0b7ffe12",
   "metadata": {},
   "outputs": [],
   "source": []
  },
  {
   "cell_type": "markdown",
   "id": "87892bc1",
   "metadata": {},
   "source": [
    "### I vs E"
   ]
  },
  {
   "cell_type": "markdown",
   "id": "bc5a8af5",
   "metadata": {},
   "source": [
    "**LinearSVC**"
   ]
  },
  {
   "cell_type": "code",
   "execution_count": 24,
   "id": "16a6c3b4",
   "metadata": {},
   "outputs": [
    {
     "data": {
      "text/plain": [
       "LinearSVC()"
      ]
     },
     "execution_count": 24,
     "metadata": {},
     "output_type": "execute_result"
    }
   ],
   "source": [
    "from sklearn.svm import LinearSVC\n",
    "\n",
    "clf1 = LinearSVC()\n",
    "clf1.fit(X_train_tfidf, y1_train)"
   ]
  },
  {
   "cell_type": "code",
   "execution_count": 25,
   "id": "75d9d97c",
   "metadata": {},
   "outputs": [],
   "source": [
    "train_predict1 = clf1.predict(X_train_tfidf)\n",
    "valid_predict1 = clf1.predict(X_test_tfidf)"
   ]
  },
  {
   "cell_type": "code",
   "execution_count": 41,
   "id": "3e3fbd38",
   "metadata": {},
   "outputs": [
    {
     "name": "stdout",
     "output_type": "stream",
     "text": [
      "IE훈련데이터 전체 단위 정확도:  0.9999495671177607\n",
      "IE검증데이터 전체 단위 정확도:  0.8891204948897257\n"
     ]
    }
   ],
   "source": [
    "print('IE훈련데이터 전체 단위 정확도: ', np.mean(train_predict1 == y1_train))\n",
    "print('IE검증데이터 전체 단위 정확도: ', np.mean(valid_predict1 == y1_test))"
   ]
  },
  {
   "cell_type": "markdown",
   "id": "fe1fdefa",
   "metadata": {},
   "source": [
    "**LogisticRegression**"
   ]
  },
  {
   "cell_type": "code",
   "execution_count": 46,
   "id": "1845a57b",
   "metadata": {},
   "outputs": [
    {
     "data": {
      "text/plain": [
       "LogisticRegression()"
      ]
     },
     "execution_count": 46,
     "metadata": {},
     "output_type": "execute_result"
    }
   ],
   "source": [
    "from sklearn.linear_model import LogisticRegression\n",
    "\n",
    "logistic_model1 = LogisticRegression()\n",
    "logistic_model1.fit(X_train_tfidf, y1_train)"
   ]
  },
  {
   "cell_type": "code",
   "execution_count": 47,
   "id": "f490daf3",
   "metadata": {},
   "outputs": [],
   "source": [
    "logistic_train_predict1 = logistic_model1.predict(X_train_tfidf)\n",
    "logistic_valid_predict1 = logistic_model1.predict(X_test_tfidf)"
   ]
  },
  {
   "cell_type": "code",
   "execution_count": 49,
   "id": "8dc2fc5c",
   "metadata": {},
   "outputs": [
    {
     "name": "stdout",
     "output_type": "stream",
     "text": [
      "IE훈련데이터 전체 단위 정확도:  0.907606959737749\n",
      "IE검증데이터 전체 단위 정확도:  0.8622915545992469\n"
     ]
    }
   ],
   "source": [
    "print('IE훈련데이터 전체 단위 정확도: ', np.mean(logistic_train_predict1 == y1_train))\n",
    "print('IE검증데이터 전체 단위 정확도: ', np.mean(logistic_valid_predict1 == y1_test))"
   ]
  },
  {
   "cell_type": "markdown",
   "id": "1682510f",
   "metadata": {},
   "source": [
    "**random_forest**"
   ]
  },
  {
   "cell_type": "code",
   "execution_count": 13,
   "id": "1c40d577",
   "metadata": {},
   "outputs": [
    {
     "data": {
      "text/plain": [
       "RandomForestClassifier(min_samples_split=50, n_estimators=1000)"
      ]
     },
     "execution_count": 13,
     "metadata": {},
     "output_type": "execute_result"
    }
   ],
   "source": [
    "from sklearn.ensemble import RandomForestClassifier\n",
    "model = RandomForestClassifier(min_samples_split = 50, n_estimators=1000)\n",
    "model.fit(X_train_tfidf, y1_train)"
   ]
  },
  {
   "cell_type": "code",
   "execution_count": 15,
   "id": "7bbf8c2b",
   "metadata": {},
   "outputs": [],
   "source": [
    "rf_train_predict1 = model.predict(X_train_tfidf)\n",
    "rf_valid_predict1 = model.predict(X_test_tfidf)"
   ]
  },
  {
   "cell_type": "code",
   "execution_count": 16,
   "id": "9a8e63f6",
   "metadata": {},
   "outputs": [
    {
     "name": "stdout",
     "output_type": "stream",
     "text": [
      "IE훈련데이터 전체 단위 정확도:  0.9905186181390266\n",
      "IE검증데이터 전체 단위 정확도:  0.7814685314685315\n"
     ]
    }
   ],
   "source": [
    "print('IE훈련데이터 전체 단위 정확도: ', np.mean(rf_train_predict1 == y1_train))\n",
    "print('IE검증데이터 전체 단위 정확도: ', np.mean(rf_valid_predict1 == y1_test))"
   ]
  },
  {
   "cell_type": "code",
   "execution_count": 18,
   "id": "d5dd9112",
   "metadata": {},
   "outputs": [
    {
     "data": {
      "text/plain": [
       "array([[13155,     0],\n",
       "       [  564, 45766]], dtype=int64)"
      ]
     },
     "execution_count": 18,
     "metadata": {},
     "output_type": "execute_result"
    }
   ],
   "source": [
    "confusion_matrix(rf_train_predict1, y1_train)"
   ]
  },
  {
   "cell_type": "code",
   "execution_count": 19,
   "id": "c439e87d",
   "metadata": {},
   "outputs": [
    {
     "data": {
      "text/plain": [
       "array([[   58,     0],\n",
       "       [ 3250, 11564]], dtype=int64)"
      ]
     },
     "execution_count": 19,
     "metadata": {},
     "output_type": "execute_result"
    }
   ],
   "source": [
    "confusion_matrix(rf_valid_predict1, y1_test)"
   ]
  },
  {
   "cell_type": "code",
   "execution_count": null,
   "id": "c9d4094a",
   "metadata": {},
   "outputs": [],
   "source": []
  },
  {
   "cell_type": "code",
   "execution_count": null,
   "id": "f9b4ee08",
   "metadata": {},
   "outputs": [],
   "source": []
  },
  {
   "cell_type": "code",
   "execution_count": null,
   "id": "dd14a6a2",
   "metadata": {},
   "outputs": [],
   "source": []
  },
  {
   "cell_type": "markdown",
   "id": "baf4dcaf",
   "metadata": {},
   "source": [
    "### N vs S"
   ]
  },
  {
   "cell_type": "markdown",
   "id": "457bba9a",
   "metadata": {},
   "source": [
    "**LinearSVC**"
   ]
  },
  {
   "cell_type": "code",
   "execution_count": 26,
   "id": "adaeed31",
   "metadata": {},
   "outputs": [
    {
     "data": {
      "text/plain": [
       "LinearSVC()"
      ]
     },
     "execution_count": 26,
     "metadata": {},
     "output_type": "execute_result"
    }
   ],
   "source": [
    "clf2 = LinearSVC()\n",
    "clf2.fit(X_train_tfidf, y2_train)"
   ]
  },
  {
   "cell_type": "code",
   "execution_count": 27,
   "id": "c9aa8a89",
   "metadata": {},
   "outputs": [],
   "source": [
    "train_predict2 = clf2.predict(X_train_tfidf)\n",
    "valid_predict2 = clf2.predict(X_test_tfidf)"
   ]
  },
  {
   "cell_type": "code",
   "execution_count": 42,
   "id": "a5aa072b",
   "metadata": {},
   "outputs": [
    {
     "name": "stdout",
     "output_type": "stream",
     "text": [
      "NS훈련데이터 전체 단위 정확도:  0.9999663780785072\n",
      "NS검증데이터 전체 단위 정확도:  0.9499731038192577\n"
     ]
    }
   ],
   "source": [
    "print('NS훈련데이터 전체 단위 정확도: ', np.mean(train_predict2 == y2_train))\n",
    "print('NS검증데이터 전체 단위 정확도: ', np.mean(valid_predict2 == y2_test))"
   ]
  },
  {
   "cell_type": "markdown",
   "id": "0bf0773c",
   "metadata": {},
   "source": [
    "**logistic_Regression**"
   ]
  },
  {
   "cell_type": "code",
   "execution_count": 50,
   "id": "0720a18c",
   "metadata": {},
   "outputs": [
    {
     "data": {
      "text/plain": [
       "LogisticRegression()"
      ]
     },
     "execution_count": 50,
     "metadata": {},
     "output_type": "execute_result"
    }
   ],
   "source": [
    "logistic_model2 = LogisticRegression()\n",
    "logistic_model2.fit(X_train_tfidf, y2_train)"
   ]
  },
  {
   "cell_type": "code",
   "execution_count": 51,
   "id": "a435e8c2",
   "metadata": {},
   "outputs": [],
   "source": [
    "logistic_train_predict2 = logistic_model2.predict(X_train_tfidf)\n",
    "logistic_valid_predict2 = logistic_model2.predict(X_test_tfidf)"
   ]
  },
  {
   "cell_type": "code",
   "execution_count": 52,
   "id": "6e0aa207",
   "metadata": {},
   "outputs": [
    {
     "name": "stdout",
     "output_type": "stream",
     "text": [
      "IE훈련데이터 전체 단위 정확도:  0.9416659662099689\n",
      "IE검증데이터 전체 단위 정확도:  0.932557826788596\n"
     ]
    }
   ],
   "source": [
    "print('IE훈련데이터 전체 단위 정확도: ', np.mean(logistic_train_predict2 == y2_train))\n",
    "print('IE검증데이터 전체 단위 정확도: ', np.mean(logistic_valid_predict2 == y2_test))"
   ]
  },
  {
   "cell_type": "code",
   "execution_count": null,
   "id": "46a3deba",
   "metadata": {},
   "outputs": [],
   "source": []
  },
  {
   "cell_type": "markdown",
   "id": "750c4b31",
   "metadata": {},
   "source": [
    "### F vs T"
   ]
  },
  {
   "cell_type": "markdown",
   "id": "90dc69dc",
   "metadata": {},
   "source": [
    "**LinearSVC**"
   ]
  },
  {
   "cell_type": "code",
   "execution_count": 28,
   "id": "d4714dc6",
   "metadata": {},
   "outputs": [
    {
     "data": {
      "text/plain": [
       "LinearSVC()"
      ]
     },
     "execution_count": 28,
     "metadata": {},
     "output_type": "execute_result"
    }
   ],
   "source": [
    "clf3 = LinearSVC()\n",
    "clf3.fit(X_train_tfidf, y3_train)"
   ]
  },
  {
   "cell_type": "code",
   "execution_count": 29,
   "id": "382b1b3d",
   "metadata": {},
   "outputs": [],
   "source": [
    "train_predict3 = clf3.predict(X_train_tfidf)\n",
    "valid_predict3 = clf3.predict(X_test_tfidf)"
   ]
  },
  {
   "cell_type": "code",
   "execution_count": 43,
   "id": "07c02624",
   "metadata": {},
   "outputs": [
    {
     "name": "stdout",
     "output_type": "stream",
     "text": [
      "FT훈련데이터 전체 단위 정확도:  0.9998991342355216\n",
      "FT검증데이터 전체 단위 정확도:  0.9164201183431953\n"
     ]
    }
   ],
   "source": [
    "print('FT훈련데이터 전체 단위 정확도: ', np.mean(train_predict3 == y3_train))\n",
    "print('FT검증데이터 전체 단위 정확도: ', np.mean(valid_predict3 == y3_test))"
   ]
  },
  {
   "cell_type": "markdown",
   "id": "bd5636fe",
   "metadata": {},
   "source": [
    "**logistic_Regression**"
   ]
  },
  {
   "cell_type": "code",
   "execution_count": 54,
   "id": "9a944db0",
   "metadata": {},
   "outputs": [
    {
     "data": {
      "text/plain": [
       "LogisticRegression()"
      ]
     },
     "execution_count": 54,
     "metadata": {},
     "output_type": "execute_result"
    }
   ],
   "source": [
    "logistic_model3 = LogisticRegression()\n",
    "logistic_model3.fit(X_train_tfidf, y3_train)"
   ]
  },
  {
   "cell_type": "code",
   "execution_count": 55,
   "id": "26410bed",
   "metadata": {},
   "outputs": [],
   "source": [
    "logistic_train_predict3 = logistic_model3.predict(X_train_tfidf)\n",
    "logistic_valid_predict3 = logistic_model3.predict(X_test_tfidf)"
   ]
  },
  {
   "cell_type": "code",
   "execution_count": 56,
   "id": "ee2ee53b",
   "metadata": {},
   "outputs": [
    {
     "name": "stdout",
     "output_type": "stream",
     "text": [
      "IE훈련데이터 전체 단위 정확도:  0.9536017483399176\n",
      "IE검증데이터 전체 단위 정확도:  0.9049220010758472\n"
     ]
    }
   ],
   "source": [
    "print('IE훈련데이터 전체 단위 정확도: ', np.mean(logistic_train_predict3 == y3_train))\n",
    "print('IE검증데이터 전체 단위 정확도: ', np.mean(logistic_valid_predict3 == y3_test))"
   ]
  },
  {
   "cell_type": "code",
   "execution_count": null,
   "id": "77bdbc16",
   "metadata": {},
   "outputs": [],
   "source": []
  },
  {
   "cell_type": "markdown",
   "id": "73ea3059",
   "metadata": {},
   "source": [
    "### P vs J"
   ]
  },
  {
   "cell_type": "markdown",
   "id": "b917bd50",
   "metadata": {},
   "source": [
    "**LinearSVC**"
   ]
  },
  {
   "cell_type": "code",
   "execution_count": 30,
   "id": "0a3d2b93",
   "metadata": {},
   "outputs": [
    {
     "data": {
      "text/plain": [
       "LinearSVC()"
      ]
     },
     "execution_count": 30,
     "metadata": {},
     "output_type": "execute_result"
    }
   ],
   "source": [
    "clf4 = LinearSVC()\n",
    "clf4.fit(X_train_tfidf, y4_train)"
   ]
  },
  {
   "cell_type": "code",
   "execution_count": 31,
   "id": "01314f44",
   "metadata": {},
   "outputs": [],
   "source": [
    "train_predict4 = clf4.predict(X_train_tfidf)\n",
    "valid_predict4 = clf4.predict(X_test_tfidf)"
   ]
  },
  {
   "cell_type": "code",
   "execution_count": 57,
   "id": "d0ad7dde",
   "metadata": {},
   "outputs": [
    {
     "name": "stdout",
     "output_type": "stream",
     "text": [
      "PJ훈련데이터 전체 단위 정확도:  0.9998487013532823\n",
      "PJ검증데이터 전체 단위 정확도:  0.8407746100053792\n"
     ]
    }
   ],
   "source": [
    "print('PJ훈련데이터 전체 단위 정확도: ', np.mean(train_predict4 == y4_train))\n",
    "print('PJ검증데이터 전체 단위 정확도: ', np.mean(valid_predict4 == y4_test))"
   ]
  },
  {
   "cell_type": "markdown",
   "id": "4af82c7e",
   "metadata": {},
   "source": [
    "**logistic_Regression**"
   ]
  },
  {
   "cell_type": "code",
   "execution_count": 58,
   "id": "a91bf134",
   "metadata": {},
   "outputs": [
    {
     "data": {
      "text/plain": [
       "LogisticRegression()"
      ]
     },
     "execution_count": 58,
     "metadata": {},
     "output_type": "execute_result"
    }
   ],
   "source": [
    "logistic_model4 = LogisticRegression()\n",
    "logistic_model4.fit(X_train_tfidf, y4_train)"
   ]
  },
  {
   "cell_type": "code",
   "execution_count": 59,
   "id": "eb3f8ee4",
   "metadata": {},
   "outputs": [],
   "source": [
    "logistic_train_predict4 = logistic_model4.predict(X_train_tfidf)\n",
    "logistic_valid_predict4 = logistic_model4.predict(X_test_tfidf)"
   ]
  },
  {
   "cell_type": "code",
   "execution_count": 60,
   "id": "0afea3cf",
   "metadata": {},
   "outputs": [
    {
     "name": "stdout",
     "output_type": "stream",
     "text": [
      "IE훈련데이터 전체 단위 정확도:  0.9358661847524586\n",
      "IE검증데이터 전체 단위 정확도:  0.8407746100053792\n"
     ]
    }
   ],
   "source": [
    "print('IE훈련데이터 전체 단위 정확도: ', np.mean(logistic_train_predict4 == y4_train))\n",
    "print('IE검증데이터 전체 단위 정확도: ', np.mean(logistic_valid_predict4 == y4_test))"
   ]
  },
  {
   "cell_type": "code",
   "execution_count": null,
   "id": "0d3f61bc",
   "metadata": {},
   "outputs": [],
   "source": []
  },
  {
   "cell_type": "code",
   "execution_count": null,
   "id": "4b9698fe",
   "metadata": {},
   "outputs": [],
   "source": []
  },
  {
   "cell_type": "code",
   "execution_count": null,
   "id": "527374d3",
   "metadata": {},
   "outputs": [],
   "source": []
  },
  {
   "cell_type": "markdown",
   "id": "df103c50",
   "metadata": {},
   "source": [
    "**final_predict**"
   ]
  },
  {
   "cell_type": "code",
   "execution_count": 33,
   "id": "60cdd9f5",
   "metadata": {},
   "outputs": [],
   "source": [
    "train_predict = train_predict1 + train_predict2 + train_predict3 + train_predict4\n",
    "valid_predict = valid_predict1 + valid_predict2 + valid_predict3 + valid_predict4"
   ]
  },
  {
   "cell_type": "code",
   "execution_count": 34,
   "id": "0e7f931c",
   "metadata": {},
   "outputs": [
    {
     "name": "stdout",
     "output_type": "stream",
     "text": [
      "훈련데이터 전체 단위 정확도:  0.9996637807850719\n",
      "검증데이터 전체 단위 정확도:  0.6855164066702528\n"
     ]
    }
   ],
   "source": [
    "print('훈련데이터 전체 단위 정확도: ', np.mean(train_predict == y_train))\n",
    "print('검증데이터 전체 단위 정확도: ', np.mean(valid_predict == y_test))"
   ]
  },
  {
   "cell_type": "code",
   "execution_count": 36,
   "id": "5435328e",
   "metadata": {},
   "outputs": [
    {
     "name": "stdout",
     "output_type": "stream",
     "text": [
      "훈련데이터 글자별 정확도:  0.9999159451962679\n",
      "검증데이터 글자별 정확도:  0.8990720817643895\n"
     ]
    }
   ],
   "source": [
    "print('훈련데이터 글자별 정확도: ', caculate_accuracy(train_predict, y_train))\n",
    "print('검증데이터 글자별 정확도: ', caculate_accuracy(valid_predict, y_test))"
   ]
  },
  {
   "cell_type": "code",
   "execution_count": null,
   "id": "5f605e06",
   "metadata": {},
   "outputs": [],
   "source": []
  },
  {
   "cell_type": "code",
   "execution_count": null,
   "id": "52220735",
   "metadata": {},
   "outputs": [],
   "source": []
  },
  {
   "cell_type": "code",
   "execution_count": null,
   "id": "5b910b67",
   "metadata": {},
   "outputs": [],
   "source": []
  },
  {
   "cell_type": "code",
   "execution_count": null,
   "id": "212de22b",
   "metadata": {},
   "outputs": [],
   "source": []
  },
  {
   "cell_type": "code",
   "execution_count": null,
   "id": "f3603594",
   "metadata": {},
   "outputs": [],
   "source": []
  },
  {
   "cell_type": "code",
   "execution_count": 9,
   "id": "9654b111",
   "metadata": {},
   "outputs": [],
   "source": [
    "from sklearn.feature_extraction.text import TfidfVectorizer\n",
    "\n",
    "vectorizer = TfidfVectorizer(min_df = 4, sublinear_tf = True, ngram_range = (1, 2))\n",
    "    \n",
    "# Training the vectorizer:\n",
    "X_train_tfidf = vectorizer.fit_transform(X)\n",
    "X_test_tfidf = vectorizer.transform(test_data.iloc[:,0])"
   ]
  },
  {
   "cell_type": "code",
   "execution_count": 10,
   "id": "ddf4da91",
   "metadata": {},
   "outputs": [
    {
     "data": {
      "text/plain": [
       "LinearSVC()"
      ]
     },
     "execution_count": 10,
     "metadata": {},
     "output_type": "execute_result"
    }
   ],
   "source": [
    "from sklearn.svm import LinearSVC\n",
    "\n",
    "clf1 = LinearSVC()\n",
    "clf1.fit(X_train_tfidf, y1_train)"
   ]
  },
  {
   "cell_type": "code",
   "execution_count": 11,
   "id": "d2fa6582",
   "metadata": {},
   "outputs": [],
   "source": [
    "test_predict1 = clf1.predict(X_test_tfidf)"
   ]
  },
  {
   "cell_type": "code",
   "execution_count": 12,
   "id": "24d3ca7e",
   "metadata": {},
   "outputs": [
    {
     "data": {
      "text/plain": [
       "LinearSVC()"
      ]
     },
     "execution_count": 12,
     "metadata": {},
     "output_type": "execute_result"
    }
   ],
   "source": [
    "clf2 = LinearSVC()\n",
    "clf2.fit(X_train_tfidf, y2_train)"
   ]
  },
  {
   "cell_type": "code",
   "execution_count": 13,
   "id": "ba9b034b",
   "metadata": {},
   "outputs": [],
   "source": [
    "test_predict2 = clf2.predict(X_test_tfidf)"
   ]
  },
  {
   "cell_type": "code",
   "execution_count": 14,
   "id": "9683ab58",
   "metadata": {},
   "outputs": [
    {
     "data": {
      "text/plain": [
       "LinearSVC()"
      ]
     },
     "execution_count": 14,
     "metadata": {},
     "output_type": "execute_result"
    }
   ],
   "source": [
    "clf3 = LinearSVC()\n",
    "clf3.fit(X_train_tfidf, y3_train)"
   ]
  },
  {
   "cell_type": "code",
   "execution_count": 15,
   "id": "bbd535c9",
   "metadata": {},
   "outputs": [],
   "source": [
    "test_predict3 = clf3.predict(X_test_tfidf)"
   ]
  },
  {
   "cell_type": "code",
   "execution_count": 16,
   "id": "66e1cdc2",
   "metadata": {},
   "outputs": [
    {
     "data": {
      "text/plain": [
       "LinearSVC()"
      ]
     },
     "execution_count": 16,
     "metadata": {},
     "output_type": "execute_result"
    }
   ],
   "source": [
    "clf4 = LinearSVC()\n",
    "clf4.fit(X_train_tfidf, y4_train)"
   ]
  },
  {
   "cell_type": "code",
   "execution_count": 17,
   "id": "316abf7a",
   "metadata": {},
   "outputs": [],
   "source": [
    "test_predict4 = clf4.predict(X_test_tfidf)"
   ]
  },
  {
   "cell_type": "code",
   "execution_count": 18,
   "id": "3d30a189",
   "metadata": {},
   "outputs": [
    {
     "data": {
      "text/plain": [
       "array(['ENFP', 'ENTP', 'INTP', ..., 'INTP', 'INTJ', 'INFP'], dtype=object)"
      ]
     },
     "execution_count": 18,
     "metadata": {},
     "output_type": "execute_result"
    }
   ],
   "source": [
    "test_predict1 + test_predict2 + test_predict3 + test_predict4"
   ]
  },
  {
   "cell_type": "code",
   "execution_count": 19,
   "id": "1270e42a",
   "metadata": {},
   "outputs": [],
   "source": [
    "test_predict = test_predict1 + test_predict2 + test_predict3 + test_predict4"
   ]
  },
  {
   "cell_type": "code",
   "execution_count": 20,
   "id": "db3ec974",
   "metadata": {},
   "outputs": [],
   "source": [
    "pd.DataFrame(test_predict).to_csv('R3_team10.csv', index=None, header=None)"
   ]
  },
  {
   "cell_type": "code",
   "execution_count": 21,
   "id": "6231b530",
   "metadata": {},
   "outputs": [
    {
     "data": {
      "text/plain": [
       "array(['ENFP', 'ENTP', 'INTP', ..., 'INTP', 'INTJ', 'INFP'], dtype=object)"
      ]
     },
     "execution_count": 21,
     "metadata": {},
     "output_type": "execute_result"
    }
   ],
   "source": [
    "test_predict "
   ]
  },
  {
   "cell_type": "code",
   "execution_count": null,
   "id": "dc0aa24e",
   "metadata": {},
   "outputs": [],
   "source": []
  },
  {
   "cell_type": "code",
   "execution_count": null,
   "id": "39af74c0",
   "metadata": {},
   "outputs": [],
   "source": []
  }
 ],
 "metadata": {
  "kernelspec": {
   "display_name": "Python 3 (ipykernel)",
   "language": "python",
   "name": "python3"
  },
  "language_info": {
   "codemirror_mode": {
    "name": "ipython",
    "version": 3
   },
   "file_extension": ".py",
   "mimetype": "text/x-python",
   "name": "python",
   "nbconvert_exporter": "python",
   "pygments_lexer": "ipython3",
   "version": "3.8.8"
  }
 },
 "nbformat": 4,
 "nbformat_minor": 5
}
